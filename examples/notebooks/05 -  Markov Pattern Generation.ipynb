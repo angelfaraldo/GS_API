{
 "cells": [
  {
   "cell_type": "markdown",
   "metadata": {
    "deletable": true,
    "editable": true
   },
   "source": [
    "## 03 - Markov Pattern Generation"
   ]
  },
  {
   "cell_type": "markdown",
   "metadata": {
    "deletable": true,
    "editable": true
   },
   "source": [
    "In this example, we are going to analyse a corpus of drum patterns, and generate new drum patterns based on it."
   ]
  },
  {
   "cell_type": "code",
   "execution_count": 1,
   "metadata": {
    "collapsed": true,
    "deletable": true,
    "editable": true
   },
   "outputs": [],
   "source": [
    "from gsapi import *\n",
    "\n",
    "# Select the folder where the MIDI files for analysis are located\n",
    "corpusFolder = \"../corpora/drums\""
   ]
  },
  {
   "cell_type": "code",
   "execution_count": 2,
   "metadata": {
    "collapsed": false,
    "deletable": true,
    "editable": true
   },
   "outputs": [
    {
     "name": "stdout",
     "output_type": "stream",
     "text": [
      "11 midi files in corpus\n"
     ]
    }
   ],
   "source": [
    "# Now we load the whole folder as a Dataset:\n",
    "# All events will have tags corresponding to GeneralMIDI mapping\n",
    "# (see gsdefs.generalMidiMap)\n",
    "\n",
    "dataset = gsdataset.Dataset(midiFolder=corpusFolder,\n",
    "                            midiGlob=\"*.mid\",\n",
    "                            midiMap=gsdefs.generalMidiMap,\n",
    "                            checkForOverlapped=True)\n",
    "\n",
    "print(repr(len(dataset.patterns)) + \" midi files in corpus\")"
   ]
  },
  {
   "cell_type": "code",
   "execution_count": 3,
   "metadata": {
    "collapsed": false,
    "deletable": true,
    "editable": true
   },
   "outputs": [
    {
     "name": "stdout",
     "output_type": "stream",
     "text": [
      "324 sixteen-beat patterns\n"
     ]
    }
   ],
   "source": [
    "# Now, let us split the dataset into 16-beat long slices\n",
    "# with the function 'splitInEqualLengthPatterns'\n",
    "# saving each slice as an element in a list called \"allPatternsSliced\"\n",
    "\n",
    "allPatternsSliced = []\n",
    "sizeOfSlice = 16\n",
    "for midiPattern in dataset.patterns:\n",
    "    for slice in midiPattern.splitInEqualLengthPatterns(sizeOfSlice):\n",
    "        allPatternsSliced += [slice]\n",
    "        \n",
    "print(repr(len(allPatternsSliced)) + \" sixteen-beat patterns\")"
   ]
  },
  {
   "cell_type": "code",
   "execution_count": 4,
   "metadata": {
    "collapsed": false,
    "deletable": true,
    "editable": true
   },
   "outputs": [
    {
     "name": "stdout",
     "output_type": "stream",
     "text": [
      "Name: clyde1.mid_3, Duration: 16.00, BPM: 120.00, TimeSignature: 4/4\n",
      "Bass Drum 1 36 100 0.0000 0.1146\n",
      "Closed Hi Hat 42 66 0.0000 0.1146\n",
      "Electric Snare 40 64 0.2500 0.1146\n",
      "Closed Hi Hat 42 51 0.2500 0.1250\n",
      "Bass Drum 1 36 85 0.5000 0.1042\n",
      "Closed Hi Hat 42 52 0.5000 0.1042\n",
      "Bass Drum 1 36 43 0.7500 0.1146\n",
      "Closed Hi Hat 42 22 0.7500 0.0917\n",
      "Closed Hi Hat 42 107 1.0000 0.1042\n",
      "Electric Snare 40 117 1.0000 0.1177\n",
      "Closed Hi Hat 42 111 1.5000 0.1042\n",
      "Electric Snare 40 40 1.7500 0.1146\n",
      "Closed Hi Hat 42 43 1.7500 0.1146\n",
      "Closed Hi Hat 42 51 2.0000 0.1167\n",
      "Electric Snare 40 105 2.2500 0.0906\n",
      "Closed Hi Hat 42 63 2.2500 0.0906\n",
      "Bass Drum 1 36 85 2.5000 0.1021\n",
      "Closed Hi Hat 42 81 3.0000 0.1042\n",
      "Electric Snare 40 122 3.0000 0.1271\n",
      "Electric Snare 40 42 3.2500 0.1146\n",
      "Bass Drum 1 36 102 3.5000 0.1281\n",
      "Open Hi-Hat 46 83 3.5000 0.0917\n",
      "Electric Snare 40 42 3.7500 0.1146\n",
      "Closed Hi Hat 42 54 4.0000 0.1042\n",
      "Bass Drum 1 36 95 4.0000 0.1031\n",
      "Closed Hi Hat 42 87 4.2500 0.1042\n",
      "Electric Snare 40 95 4.2500 0.1042\n",
      "Closed Hi Hat 42 67 4.5000 0.1010\n",
      "Bass Drum 1 36 82 4.7500 0.1042\n",
      "Electric Snare 40 112 5.0000 0.1021\n",
      "Closed Hi Hat 42 67 5.2500 0.1167\n",
      "Electric Snare 40 50 5.2500 0.1167\n",
      "Closed Hi Hat 42 72 5.5000 0.1167\n",
      "Bass Drum 1 36 90 5.5000 0.1042\n",
      "Closed Hi Hat 42 80 5.7500 0.1167\n",
      "Electric Snare 40 75 5.7500 0.1167\n",
      "Closed Hi Hat 42 109 6.0000 0.1177\n",
      "Electric Snare 40 122 6.0000 0.1177\n",
      "Bass Drum 1 36 87 6.2500 0.1010\n",
      "Open Hi-Hat 46 68 6.2500 0.1042\n",
      "Electric Snare 40 92 6.2500 0.1042\n",
      "Electric Snare 40 80 6.7500 0.1146\n",
      "Closed Hi Hat 42 61 6.7500 0.1146\n",
      "Electric Snare 40 117 7.0000 0.1042\n",
      "Electric Snare 40 82 7.2500 0.1177\n",
      "Open Hi-Hat 46 71 7.2500 0.1146\n",
      "Bass Drum 1 36 85 7.2500 0.1021\n",
      "Closed Hi Hat 42 60 7.7500 0.1042\n",
      "Electric Snare 40 67 7.7500 0.1167\n",
      "Closed Hi Hat 42 85 8.0000 0.1042\n",
      "Bass Drum 1 36 87 8.0000 0.1042\n",
      "Bass Drum 1 36 80 8.5000 0.1167\n",
      "Closed Hi Hat 42 65 8.5000 0.1167\n",
      "Electric Snare 40 117 9.0000 0.1177\n",
      "Closed Hi Hat 42 70 9.5000 0.1167\n",
      "Electric Snare 40 35 9.7500 0.1177\n",
      "Closed Hi Hat 42 27 9.7500 0.1177\n",
      "Closed Hi Hat 42 89 10.0000 0.1042\n",
      "Closed Hi Hat 42 70 10.2500 0.1167\n",
      "Electric Snare 40 90 10.2500 0.1167\n",
      "Closed Hi Hat 42 63 10.5000 0.1062\n",
      "Electric Snare 40 55 10.7500 0.1042\n",
      "Closed Hi Hat 42 27 10.7500 0.1042\n",
      "Bass Drum 1 36 87 10.7500 0.1042\n",
      "Electric Snare 40 110 11.0000 0.1062\n",
      "Closed Hi Hat 42 88 11.0000 0.1167\n",
      "Closed Hi Hat 42 93 11.5000 0.1042\n",
      "Closed Hi Hat 42 92 11.7500 0.1062\n",
      "Electric Snare 40 100 11.7500 0.1062\n",
      "Closed Hi Hat 42 68 12.0000 0.1177\n",
      "Closed Hi Hat 42 75 12.2500 0.1167\n",
      "Electric Snare 40 75 12.2500 0.1042\n",
      "Closed Hi Hat 42 82 12.5000 0.1146\n",
      "Bass Drum 1 36 82 12.7500 0.1146\n",
      "Electric Snare 40 42 12.7500 0.1146\n",
      "Closed Hi Hat 42 82 13.0000 0.0906\n",
      "Electric Snare 40 115 13.0000 0.1146\n",
      "Electric Snare 40 42 13.2500 0.1073\n",
      "Closed Hi Hat 42 42 13.2500 0.1167\n",
      "Bass Drum 1 36 82 13.5000 0.1073\n",
      "Electric Snare 40 77 13.5000 0.1073\n",
      "Closed Hi Hat 42 65 13.5000 0.1073\n",
      "Closed Hi Hat 42 66 13.7500 0.1146\n",
      "Electric Snare 40 77 13.7500 0.1146\n",
      "Bass Drum 1 36 90 14.0000 0.1167\n",
      "Closed Hi Hat 42 62 14.0000 0.1167\n",
      "Electric Snare 40 54 14.0000 0.1167\n",
      "Closed Hi Hat 42 64 14.2500 0.1177\n",
      "Electric Snare 40 70 14.2500 0.1177\n",
      "Electric Snare 40 95 14.5000 0.1177\n",
      "High Floor Tom 43 87 14.7500 0.1250\n",
      "Closed Hi Hat 42 79 14.7500 0.1042\n",
      "Closed Hi Hat 42 57 15.0000 0.1042\n",
      "Electric Snare 40 90 15.0000 0.1042\n",
      "Low Tom 45 100 15.2500 0.1250\n",
      "Closed Hi Hat 42 102 15.2500 0.1062\n",
      "Closed Hi Hat 42 72 15.5000 0.1167\n",
      "Electric Snare 40 87 15.5000 0.1042\n",
      "Electric Snare 40 85 15.7500 0.1167\n",
      "Closed Hi Hat 42 49 15.7500 0.1167\n",
      "\n"
     ]
    }
   ],
   "source": [
    "print(allPatternsSliced[3])"
   ]
  },
  {
   "cell_type": "code",
   "execution_count": 11,
   "metadata": {
    "collapsed": false,
    "deletable": true,
    "editable": true
   },
   "outputs": [
    {
     "name": "stdout",
     "output_type": "stream",
     "text": [
      "Name: noName, Duration: 16.00, BPM: 120.00, TimeSignature: 4/4\n",
      "Bass Drum 1 100 127 0.0000 0.5000\n",
      "Pedal Hi-Hat 100 127 0.5000 0.5000\n",
      "Closed Hi Hat 100 127 0.5000 0.5000\n",
      "Hand Clap 100 127 1.0000 0.5000\n",
      "Pedal Hi-Hat 100 127 1.5000 0.5000\n",
      "Acoustic Bass Drum 100 127 2.0000 0.5000\n",
      "Bass Drum 1 100 127 2.0000 0.5000\n",
      "Pedal Hi-Hat 100 127 2.5000 0.5000\n",
      "Electric Snare 100 127 3.0000 0.5000\n",
      "Hand Clap 100 127 3.0000 0.5000\n",
      "Pedal Hi-Hat 100 127 3.5000 0.5000\n",
      "Acoustic Bass Drum 100 127 4.0000 0.5000\n",
      "Bass Drum 1 100 127 4.0000 0.5000\n",
      "Pedal Hi-Hat 100 127 4.5000 0.5000\n",
      "Electric Snare 100 127 5.0000 0.5000\n",
      "Hand Clap 100 127 5.0000 0.5000\n",
      "Pedal Hi-Hat 100 127 5.5000 0.5000\n",
      "Acoustic Bass Drum 100 127 6.0000 0.5000\n",
      "Bass Drum 1 100 127 6.0000 0.5000\n",
      "Pedal Hi-Hat 100 127 6.5000 0.5000\n",
      "Electric Snare 100 127 7.0000 0.5000\n",
      "Hand Clap 100 127 7.0000 0.5000\n",
      "Pedal Hi-Hat 100 127 7.5000 0.5000\n",
      "Acoustic Bass Drum 100 127 8.0000 0.5000\n",
      "Bass Drum 1 100 127 8.0000 0.5000\n",
      "Pedal Hi-Hat 100 127 8.5000 0.5000\n",
      "Electric Snare 100 127 9.0000 0.5000\n",
      "Hand Clap 100 127 9.0000 0.5000\n",
      "Pedal Hi-Hat 100 127 9.5000 0.5000\n",
      "Acoustic Bass Drum 100 127 10.0000 0.5000\n",
      "Bass Drum 1 100 127 10.0000 0.5000\n",
      "Pedal Hi-Hat 100 127 10.5000 0.5000\n",
      "Electric Snare 100 127 11.0000 0.5000\n",
      "Hand Clap 100 127 11.0000 0.5000\n",
      "Pedal Hi-Hat 100 127 11.5000 0.5000\n",
      "Acoustic Bass Drum 100 127 12.0000 0.5000\n",
      "Bass Drum 1 100 127 12.0000 0.5000\n",
      "Pedal Hi-Hat 100 127 12.5000 0.5000\n",
      "Electric Snare 100 127 13.0000 0.5000\n",
      "Hand Clap 100 127 13.0000 0.5000\n",
      "Pedal Hi-Hat 100 127 13.5000 0.5000\n",
      "Acoustic Bass Drum 100 127 14.0000 0.5000\n",
      "Bass Drum 1 100 127 14.0000 0.5000\n",
      "Pedal Hi-Hat 100 127 14.5000 0.5000\n",
      "Open Hi-Hat 100 127 15.0000 0.5000\n",
      "Electric Snare 100 127 15.0000 0.5000\n",
      "Hand Clap 100 127 15.0000 0.5000\n",
      "\n"
     ]
    }
   ],
   "source": [
    "# create an instance of MarkovStyle\n",
    "# with the desired parameters (order, number of steps and final duration)\n",
    "markovStyle = styles.MarkovStyle(order=2, numSteps=32, loopDuration=sizeOfSlice)\n",
    "\n",
    "# feed the corpus to the markov model\n",
    "markovStyle.generateStyle(allPatternsSliced)\n",
    "\n",
    "# markovStyle.buildStyle()\n",
    "\n",
    "# and create a new Pattern based on the style with the method \"generatePattern\"\n",
    "newPattern = markovStyle.generatePattern()\n",
    "\n",
    "print(newPattern)\n",
    "# clearly there is a problem here, cause all notes are Midi Note 100!\n",
    "\n",
    "#type(newPattern.events[1].tag)\n",
    "# print(newPattern)\n",
    "#print markovStyle.getInternalState()"
   ]
  },
  {
   "cell_type": "code",
   "execution_count": 12,
   "metadata": {
    "collapsed": false,
    "deletable": true,
    "editable": true
   },
   "outputs": [
    {
     "ename": "UnboundLocalError",
     "evalue": "local variable 'pitch' referenced before assignment",
     "output_type": "error",
     "traceback": [
      "\u001b[0;31m---------------------------------------------------------------------------\u001b[0m",
      "\u001b[0;31mUnboundLocalError\u001b[0m                         Traceback (most recent call last)",
      "\u001b[0;32m<ipython-input-12-7c3979ee83de>\u001b[0m in \u001b[0;36m<module>\u001b[0;34m()\u001b[0m\n\u001b[1;32m      3\u001b[0m             \u001b[0mmidiMap\u001b[0m\u001b[0;34m=\u001b[0m\u001b[0mgsdefs\u001b[0m\u001b[0;34m.\u001b[0m\u001b[0mgeneralMidiMap\u001b[0m\u001b[0;34m,\u001b[0m\u001b[0;34m\u001b[0m\u001b[0m\n\u001b[1;32m      4\u001b[0m             \u001b[0mfolderPath\u001b[0m\u001b[0;34m=\u001b[0m\u001b[0;34m\"../../output\"\u001b[0m\u001b[0;34m,\u001b[0m\u001b[0;34m\u001b[0m\u001b[0m\n\u001b[0;32m----> 5\u001b[0;31m             name=\"markovPattern\")\n\u001b[0m",
      "\u001b[0;32m/usr/local/lib/python2.7/site-packages/gsapi-1.0.4-py2.7.egg/gsapi/gsio.pyc\u001b[0m in \u001b[0;36mtoMidi\u001b[0;34m(myPattern, midiMap, folderPath, name)\u001b[0m\n\u001b[1;32m    360\u001b[0m             \u001b[0mpitch\u001b[0m \u001b[0;34m=\u001b[0m \u001b[0mevt\u001b[0m\u001b[0;34m.\u001b[0m\u001b[0mpitch\u001b[0m \u001b[0;31m# todo esto lo he movido de más arriba!\u001b[0m\u001b[0;34m\u001b[0m\u001b[0m\n\u001b[1;32m    361\u001b[0m         track.append(midi.NoteOnEvent(tick=startTick, velocity=evt.velocity,\n\u001b[0;32m--> 362\u001b[0;31m                                           pitch=pitch, channel=channel))\n\u001b[0m\u001b[1;32m    363\u001b[0m         track.append(midi.NoteOffEvent(tick=endTick, velocity=evt.velocity,\n\u001b[1;32m    364\u001b[0m                                            pitch=pitch, channel=channel))\n",
      "\u001b[0;31mUnboundLocalError\u001b[0m: local variable 'pitch' referenced before assignment"
     ]
    }
   ],
   "source": [
    "# and export to a MIDI file if you wish\n",
    "gsio.toMidi(newPattern,\n",
    "            midiMap=gsdefs.generalMidiMap,\n",
    "            folderPath=\"../../output\", \n",
    "            name=\"markovPattern\")"
   ]
  },
  {
   "cell_type": "code",
   "execution_count": 10,
   "metadata": {
    "collapsed": false,
    "deletable": true,
    "editable": true
   },
   "outputs": [],
   "source": [
    "#\n",
    "#allTags = allPatternsSliced[0].getAllTags()\n",
    "#tagToSearch = allTags #[0]\n",
    "#\n",
    "# densityDescriptor = gsapi.descriptors.Density()\n",
    "#\n",
    "# for p in allPatternsSliced:\n",
    "#     p = p.getPatternWithTags(tags=\"kick\")\n",
    "#     densityDescriptor.getDescriptorForPattern(p)\n",
    "\n",
    "\n",
    "#for p in self.dataset.patterns:\n",
    "#    allTags = p.getAllTags()\n",
    "#    density = descriptor.getDescriptorForPattern(p)"
   ]
  },
  {
   "cell_type": "code",
   "execution_count": 11,
   "metadata": {
    "collapsed": false,
    "deletable": true,
    "editable": true
   },
   "outputs": [
    {
     "ename": "TypeError",
     "evalue": "getPatternWithTags() got an unexpected keyword argument 'copy'",
     "output_type": "error",
     "traceback": [
      "\u001b[0;31m---------------------------------------------------------------------------\u001b[0m",
      "\u001b[0;31mTypeError\u001b[0m                                 Traceback (most recent call last)",
      "\u001b[0;32m<ipython-input-11-527bdd59b0c3>\u001b[0m in \u001b[0;36m<module>\u001b[0;34m()\u001b[0m\n\u001b[1;32m      4\u001b[0m \u001b[0;31m# and then extract each event on the class using justkick.events.\u001b[0m\u001b[0;34m\u001b[0m\u001b[0;34m\u001b[0m\u001b[0m\n\u001b[1;32m      5\u001b[0m \u001b[0;34m\u001b[0m\u001b[0m\n\u001b[0;32m----> 6\u001b[0;31m \u001b[0mjustkick\u001b[0m\u001b[0;34m=\u001b[0m\u001b[0mnewPattern\u001b[0m\u001b[0;34m.\u001b[0m\u001b[0mgetPatternWithTags\u001b[0m\u001b[0;34m(\u001b[0m\u001b[0;34m'Acoustic Bass Drum'\u001b[0m\u001b[0;34m,\u001b[0m \u001b[0mexactSearch\u001b[0m\u001b[0;34m=\u001b[0m\u001b[0mTrue\u001b[0m\u001b[0;34m,\u001b[0m \u001b[0mcopy\u001b[0m\u001b[0;34m=\u001b[0m\u001b[0mTrue\u001b[0m\u001b[0;34m)\u001b[0m\u001b[0;34m\u001b[0m\u001b[0m\n\u001b[0m\u001b[1;32m      7\u001b[0m \u001b[0;34m\u001b[0m\u001b[0m\n\u001b[1;32m      8\u001b[0m \u001b[0mkickAsList\u001b[0m\u001b[0;34m=\u001b[0m\u001b[0;34m[\u001b[0m\u001b[0;36m0\u001b[0m\u001b[0;34m]\u001b[0m\u001b[0;34m*\u001b[0m\u001b[0msizeOfSlice\u001b[0m\u001b[0;34m\u001b[0m\u001b[0m\n",
      "\u001b[0;31mTypeError\u001b[0m: getPatternWithTags() got an unexpected keyword argument 'copy'"
     ]
    }
   ],
   "source": [
    "# Extract only the pattern of the kick drum from the complete pattern.\n",
    "# Using the function \"getPatternWithTags\" and asking for the 'Acoustic Bass Drum' tag\n",
    "# makes it easy. To create such list, we should first extract the events as a class called \"justkick\"\n",
    "# and then extract each event on the class using justkick.events.\n",
    "\n",
    "#justkick = newPattern.getPatternWithTags('Acoustic Bass Drum', exactSearch=True, copy=True)\n",
    "\n",
    "#kickAsList=[0]*sizeOfSlice\n",
    "#for s,e in enumerate(justkick.events):\n",
    "#    kickAsList[int(e.startTime)]=1\n",
    "\n",
    "#print(kickAsList)"
   ]
  },
  {
   "cell_type": "code",
   "execution_count": null,
   "metadata": {
    "collapsed": true,
    "deletable": true,
    "editable": true
   },
   "outputs": [],
   "source": []
  }
 ],
 "metadata": {
  "kernelspec": {
   "display_name": "Python 2",
   "language": "python",
   "name": "python2"
  },
  "language_info": {
   "codemirror_mode": {
    "name": "ipython",
    "version": 2
   },
   "file_extension": ".py",
   "mimetype": "text/x-python",
   "name": "python",
   "nbconvert_exporter": "python",
   "pygments_lexer": "ipython2",
   "version": "2.7.12"
  }
 },
 "nbformat": 4,
 "nbformat_minor": 0
}
