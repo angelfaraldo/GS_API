{
 "cells": [
  {
   "cell_type": "markdown",
   "metadata": {},
   "source": [
    "## 03 - Markov Pattern Generation"
   ]
  },
  {
   "cell_type": "markdown",
   "metadata": {},
   "source": [
    "In this example, we are going to analyse a corpus of drum patterns, and generate new drum patterns based on it."
   ]
  },
  {
   "cell_type": "code",
   "execution_count": null,
   "metadata": {
    "collapsed": true
   },
   "outputs": [],
   "source": [
    "from gsapi import *\n",
    "\n",
    "# Select the folder where the MIDI files for analysis are located\n",
    "corpusFolder = \"../corpora/drums\""
   ]
  },
  {
   "cell_type": "code",
   "execution_count": null,
   "metadata": {},
   "outputs": [],
   "source": [
    "# Now we load the whole folder as a Dataset:\n",
    "# All events will have tags corresponding to GeneralMIDI mapping\n",
    "# (see gsdefs.generalMidiMap)\n",
    "\n",
    "dataset = gsdataset.Dataset(midiFolder=corpusFolder,\n",
    "                            midiGlob=\"*.mid\",\n",
    "                            midiMap=gsdefs.generalMidiMap,\n",
    "                            checkForOverlapped=True)\n",
    "\n",
    "print(repr(len(dataset.patterns)) + \" midi files in corpus\")"
   ]
  },
  {
   "cell_type": "code",
   "execution_count": null,
   "metadata": {},
   "outputs": [],
   "source": [
    "# Now, let us split the dataset into 16-beat long slices\n",
    "# with the function 'splitInEqualLengthPatterns'\n",
    "# saving each slice as an element in a list called \"allPatternsSliced\"\n",
    "\n",
    "allPatternsSliced = []\n",
    "sizeOfSlice = 16\n",
    "for midiPattern in dataset.patterns:\n",
    "    for slice in midiPattern.splitInEqualLengthPatterns(sizeOfSlice):\n",
    "        allPatternsSliced += [slice]\n",
    "        \n",
    "print(repr(len(allPatternsSliced)) + \" sixteen-beat patterns\")"
   ]
  },
  {
   "cell_type": "code",
   "execution_count": null,
   "metadata": {},
   "outputs": [],
   "source": [
    "print(allPatternsSliced[3])"
   ]
  },
  {
   "cell_type": "code",
   "execution_count": null,
   "metadata": {},
   "outputs": [],
   "source": [
    "# create an instance of MarkovStyle\n",
    "# with the desired parameters (order, number of steps and final duration)\n",
    "markovStyle = styles.MarkovStyle(order=2, numSteps=32, loopDuration=sizeOfSlice)\n",
    "\n",
    "# feed the corpus to the markov model\n",
    "markovStyle.generateStyle(allPatternsSliced)\n",
    "\n",
    "# markovStyle.buildStyle()\n",
    "\n",
    "# and create a new Pattern based on the style with the method \"generatePattern\"\n",
    "newPattern = markovStyle.generatePattern()\n",
    "\n",
    "print(newPattern)\n",
    "# clearly there is a problem here, cause all notes are Midi Note 100!\n",
    "\n",
    "#type(newPattern.events[1].tag)\n",
    "# print(newPattern)\n",
    "#print markovStyle.getInternalState()"
   ]
  },
  {
   "cell_type": "code",
   "execution_count": null,
   "metadata": {},
   "outputs": [],
   "source": [
    "# and export to a MIDI file if you wish\n",
    "gsio.toMidi(newPattern,\n",
    "            midiMap=gsdefs.generalMidiMap,\n",
    "            folderPath=\"../../output\", \n",
    "            name=\"markovPattern\")"
   ]
  },
  {
   "cell_type": "code",
   "execution_count": null,
   "metadata": {},
   "outputs": [],
   "source": [
    "#\n",
    "#allTags = allPatternsSliced[0].getAllTags()\n",
    "#tagToSearch = allTags #[0]\n",
    "#\n",
    "# densityDescriptor = gsapi.descriptors.Density()\n",
    "#\n",
    "# for p in allPatternsSliced:\n",
    "#     p = p.getPatternWithTags(tags=\"kick\")\n",
    "#     densityDescriptor.getDescriptorForPattern(p)\n",
    "\n",
    "\n",
    "#for p in self.dataset.patterns:\n",
    "#    allTags = p.getAllTags()\n",
    "#    density = descriptor.getDescriptorForPattern(p)"
   ]
  },
  {
   "cell_type": "code",
   "execution_count": null,
   "metadata": {},
   "outputs": [],
   "source": [
    "# Extract only the pattern of the kick drum from the complete pattern.\n",
    "# Using the function \"getPatternWithTags\" and asking for the 'Acoustic Bass Drum' tag\n",
    "# makes it easy. To create such list, we should first extract the events as a class called \"justkick\"\n",
    "# and then extract each event on the class using justkick.events.\n",
    "\n",
    "#justkick = newPattern.getPatternWithTags('Acoustic Bass Drum', exactSearch=True, copy=True)\n",
    "\n",
    "#kickAsList=[0]*sizeOfSlice\n",
    "#for s,e in enumerate(justkick.events):\n",
    "#    kickAsList[int(e.startTime)]=1\n",
    "\n",
    "#print(kickAsList)"
   ]
  },
  {
   "cell_type": "code",
   "execution_count": null,
   "metadata": {
    "collapsed": true
   },
   "outputs": [],
   "source": []
  }
 ],
 "metadata": {
  "kernelspec": {
   "display_name": "Python 2",
   "language": "python",
   "name": "python2"
  },
  "language_info": {
   "codemirror_mode": {
    "name": "ipython",
    "version": 2
   },
   "file_extension": ".py",
   "mimetype": "text/x-python",
   "name": "python",
   "nbconvert_exporter": "python",
   "pygments_lexer": "ipython2",
   "version": "2.7.13"
  }
 },
 "nbformat": 4,
 "nbformat_minor": 1
}
