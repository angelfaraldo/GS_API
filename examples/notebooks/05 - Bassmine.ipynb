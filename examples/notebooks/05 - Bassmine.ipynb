{
 "cells": [
  {
   "cell_type": "markdown",
   "metadata": {},
   "source": [
    "## 04 - Bassmine"
   ]
  },
  {
   "cell_type": "markdown",
   "metadata": {},
   "source": [
    "Following script commands present examples of Bassline rhythmic analysis for generative processes using GS-API."
   ]
  },
  {
   "cell_type": "code",
   "execution_count": null,
   "metadata": {
    "collapsed": true
   },
   "outputs": [],
   "source": [
    "import gsapi.GSBassmineAnalysis as bassmine\n",
    "import gsapi.GSBassmineMarkov as markov\n",
    "import json\n",
    "import csv\n",
    "import random"
   ]
  },
  {
   "cell_type": "markdown",
   "metadata": {},
   "source": [
    "First step is to determine the datasets to use. In this case we need to provide a dataset that contains MIDI clips of basslines and drums in pairs. That means that each bass MIDI file has an associated drum MIDI file. \n",
    "\n",
    "The implemented algorithm builds two Markov models.\n",
    "\n",
    "First, contains the transition probabilities between bass beat patterns (temporal)\n",
    "Second, contains the concurrency probabilities between kick-drum and bass beat patterns.\n",
    "Moreover, the initial probabilites of events are computed, used to trigger the generation.\n"
   ]
  },
  {
   "cell_type": "code",
   "execution_count": null,
   "metadata": {
    "collapsed": true
   },
   "outputs": [],
   "source": [
    "# STYLE DICTIONARY\n",
    "style = {1: 'booka_shade', 2: 'mr_scruff'}\n",
    "\n",
    "# SELECT STYLE\n",
    "style_id = 2\n",
    "\n",
    "bass_path = '../../corpus/bassmine/' + style[style_id] + '/bass'\n",
    "drum_path = '../../corpus/bassmine/' + style[style_id] + '/drums'"
   ]
  },
  {
   "cell_type": "markdown",
   "metadata": {},
   "source": [
    "The implemented algorithm in [bassmine.corpus_analysis] builds two Markov models.\n",
    "\n",
    "- Transition probabilities between bass beat patterns (temporal). \n",
    "- Concurrency probabilities between kick-drum and bass beat patterns (interlocking). \n",
    "\n",
    "Moreover, the initial probabilites of events are computed, used to trigger the generation."
   ]
  },
  {
   "cell_type": "code",
   "execution_count": null,
   "metadata": {
    "collapsed": false
   },
   "outputs": [],
   "source": [
    "# Analyse corpus and build Markov model\n",
    "MM, kick_patterns = bassmine.corpus_analysis(bass_path, drum_path)\n",
    "# Normalize transition matrices\n",
    "MM.normalize_model()"
   ]
  },
  {
   "cell_type": "markdown",
   "metadata": {},
   "source": [
    "Once models are computed we can export them."
   ]
  },
  {
   "cell_type": "code",
   "execution_count": null,
   "metadata": {
    "collapsed": true
   },
   "outputs": [],
   "source": [
    "# Output folder (to use with Max this folder should be Bassmine-master/models/)\n",
    "_path = 'output/'\n",
    "#  Uncomment to create models and export to pickle. REQUIRED to add new collections and use them in Max app.\n",
    "# Export to pickle files\n",
    "bassmine.write2pickle('initial', MM.get_initial(),_path + style[style_id] + '/')\n",
    "bassmine.write2pickle('temporal', MM.get_temporal(),_path + style[style_id] + '/')\n",
    "bassmine.write2pickle('interlocking', MM.get_interlocking(),_path + style[style_id] + '/')"
   ]
  },
  {
   "cell_type": "markdown",
   "metadata": {},
   "source": [
    "#### Stylistic transformations using Markov Models with constraints"
   ]
  },
  {
   "cell_type": "code",
   "execution_count": null,
   "metadata": {
    "collapsed": true
   },
   "outputs": [],
   "source": [
    "# Compute Rhythm Homogeneous MM (HMM) and export to JSON\n",
    "HModel = MM.rhythm_model(_path)"
   ]
  },
  {
   "cell_type": "code",
   "execution_count": null,
   "metadata": {
    "collapsed": false
   },
   "outputs": [],
   "source": [
    "# Given a Kick pattern generate a NHMM with interlocking constraint\n",
    "# Select a random Kick pattern from the corpus\n",
    "target_kick = kick_patterns[random.randint(0,len(kick_patterns)-1)]\n",
    "#print target_kick\n",
    "#target = [8,8,8,9,8,8,9,0]\n",
    "NHMinter = markov.constrainMM(MM, target_kick, _path)"
   ]
  },
  {
   "cell_type": "code",
   "execution_count": null,
   "metadata": {
    "collapsed": false
   },
   "outputs": [],
   "source": [
    "# Create variation model\n",
    "target_bass = [5,5,-5,5,5,-5,5,5]\n",
    "NHMvariation = markov.variationMM(MM, target_bass, _path)"
   ]
  },
  {
   "cell_type": "markdown",
   "metadata": {
    "collapsed": true
   },
   "source": [
    "#### Generation examples"
   ]
  },
  {
   "cell_type": "code",
   "execution_count": null,
   "metadata": {
    "collapsed": true
   },
   "outputs": [],
   "source": [
    "# Example od generation without constraints. It computes Homogeneous Markov Model (HM)\n",
    "pattern = markov.generateBassRhythm(MM)\n",
    "pattern.toMIDI(name='regular')"
   ]
  },
  {
   "cell_type": "code",
   "execution_count": null,
   "metadata": {
    "collapsed": true
   },
   "outputs": [],
   "source": [
    "# Example of generation using Interlocking constraint.\n",
    "inter_pattern = markov.generateBassRhythm(MM, target=target_kick)\n",
    "# Write pattern to MIDI\n",
    "inter_pattern.toMIDI(name='interlock')"
   ]
  },
  {
   "cell_type": "code",
   "execution_count": 1,
   "metadata": {
    "collapsed": false
   },
   "outputs": [
    {
     "ename": "NameError",
     "evalue": "name 'markov' is not defined",
     "output_type": "error",
     "traceback": [
      "\u001b[0;31m---------------------------------------------------------------------------\u001b[0m",
      "\u001b[0;31mNameError\u001b[0m                                 Traceback (most recent call last)",
      "\u001b[0;32m<ipython-input-1-e0fe2e3a0ad6>\u001b[0m in \u001b[0;36m<module>\u001b[0;34m()\u001b[0m\n\u001b[1;32m      1\u001b[0m \u001b[0;31m# Example of variation generation\u001b[0m\u001b[0;34m\u001b[0m\u001b[0;34m\u001b[0m\u001b[0m\n\u001b[1;32m      2\u001b[0m \u001b[0mvar_mask\u001b[0m \u001b[0;34m=\u001b[0m \u001b[0;34m[\u001b[0m\u001b[0;36m1\u001b[0m\u001b[0;34m,\u001b[0m \u001b[0;36m1\u001b[0m\u001b[0;34m,\u001b[0m \u001b[0;36m1\u001b[0m\u001b[0;34m,\u001b[0m \u001b[0;34m-\u001b[0m\u001b[0;36m1\u001b[0m\u001b[0;34m,\u001b[0m \u001b[0;36m1\u001b[0m\u001b[0;34m,\u001b[0m \u001b[0;36m1\u001b[0m\u001b[0;34m,\u001b[0m \u001b[0;34m-\u001b[0m\u001b[0;36m1\u001b[0m\u001b[0;34m,\u001b[0m \u001b[0;36m1\u001b[0m\u001b[0;34m]\u001b[0m\u001b[0;34m\u001b[0m\u001b[0m\n\u001b[0;32m----> 3\u001b[0;31m \u001b[0mvariation_pattern\u001b[0m \u001b[0;34m=\u001b[0m \u001b[0mmarkov\u001b[0m\u001b[0;34m.\u001b[0m\u001b[0mgenerateBassRhythmVariation\u001b[0m\u001b[0;34m(\u001b[0m\u001b[0mMM\u001b[0m\u001b[0;34m,\u001b[0m\u001b[0minter_pattern\u001b[0m\u001b[0;34m,\u001b[0m\u001b[0mvar_mask\u001b[0m\u001b[0;34m)\u001b[0m\u001b[0;34m\u001b[0m\u001b[0m\n\u001b[0m\u001b[1;32m      4\u001b[0m \u001b[0mvariation_pattern\u001b[0m\u001b[0;34m.\u001b[0m\u001b[0mtoMIDI\u001b[0m\u001b[0;34m(\u001b[0m\u001b[0mname\u001b[0m\u001b[0;34m=\u001b[0m\u001b[0;34m'variation'\u001b[0m\u001b[0;34m)\u001b[0m\u001b[0;34m\u001b[0m\u001b[0m\n",
      "\u001b[0;31mNameError\u001b[0m: name 'markov' is not defined"
     ]
    }
   ],
   "source": [
    "# Example of variation generation\n",
    "var_mask = [1, 1, 1, -1, 1, 1, -1, 1]\n",
    "variation_pattern = markov.generateBassRhythmVariation(MM,inter_pattern,var_mask)\n",
    "variation_pattern.toMIDI(name='variation')"
   ]
  },
  {
   "cell_type": "code",
   "execution_count": 2,
   "metadata": {
    "collapsed": false
   },
   "outputs": [
    {
     "ename": "NameError",
     "evalue": "name 'csv' is not defined",
     "output_type": "error",
     "traceback": [
      "\u001b[0;31m---------------------------------------------------------------------------\u001b[0m",
      "\u001b[0;31mNameError\u001b[0m                                 Traceback (most recent call last)",
      "\u001b[0;32m<ipython-input-2-c05af78be8ee>\u001b[0m in \u001b[0;36m<module>\u001b[0;34m()\u001b[0m\n\u001b[1;32m      4\u001b[0m \"\"\"\n\u001b[1;32m      5\u001b[0m \u001b[0;32mwith\u001b[0m \u001b[0mopen\u001b[0m\u001b[0;34m(\u001b[0m\u001b[0;34m'initial.csv'\u001b[0m\u001b[0;34m,\u001b[0m \u001b[0;34m'wb'\u001b[0m\u001b[0;34m)\u001b[0m \u001b[0;32mas\u001b[0m \u001b[0mf\u001b[0m\u001b[0;34m:\u001b[0m\u001b[0;34m\u001b[0m\u001b[0m\n\u001b[0;32m----> 6\u001b[0;31m     \u001b[0mwriter\u001b[0m \u001b[0;34m=\u001b[0m \u001b[0mcsv\u001b[0m\u001b[0;34m.\u001b[0m\u001b[0mwriter\u001b[0m\u001b[0;34m(\u001b[0m\u001b[0mf\u001b[0m\u001b[0;34m)\u001b[0m\u001b[0;34m\u001b[0m\u001b[0m\n\u001b[0m\u001b[1;32m      7\u001b[0m     \u001b[0mwriter\u001b[0m\u001b[0;34m.\u001b[0m\u001b[0mwriterow\u001b[0m\u001b[0;34m(\u001b[0m\u001b[0mMM\u001b[0m\u001b[0;34m.\u001b[0m\u001b[0mget_initial\u001b[0m\u001b[0;34m(\u001b[0m\u001b[0;34m)\u001b[0m\u001b[0;34m)\u001b[0m\u001b[0;34m\u001b[0m\u001b[0m\n\u001b[1;32m      8\u001b[0m \u001b[0;34m\u001b[0m\u001b[0m\n",
      "\u001b[0;31mNameError\u001b[0m: name 'csv' is not defined"
     ]
    }
   ],
   "source": [
    "\"\"\"\n",
    "##########################################\n",
    "#  EXPORT TO CSV\n",
    "\"\"\"\n",
    "with open('initial.csv', 'wb') as f:\n",
    "    writer = csv.writer(f)\n",
    "    writer.writerow(MM.get_initial())\n",
    "\n",
    "with open('temporal.csv', 'wb') as f:\n",
    "    writer = csv.writer(f)\n",
    "    temp = MM.get_temporal()\n",
    "    for row in temp:\n",
    "        writer.writerow(row)\n",
    "\n",
    "with open('interlocking.csv', 'wb') as f:\n",
    "    writer = csv.writer(f)\n",
    "    temp = MM.get_interlocking()\n",
    "    for row in temp:\n",
    "        writer.writerow(row)"
   ]
  }
 ],
 "metadata": {
  "kernelspec": {
   "display_name": "Python 2",
   "language": "python",
   "name": "python2"
  },
  "language_info": {
   "codemirror_mode": {
    "name": "ipython",
    "version": 2
   },
   "file_extension": ".py",
   "mimetype": "text/x-python",
   "name": "python",
   "nbconvert_exporter": "python",
   "pygments_lexer": "ipython2",
   "version": "2.7.12"
  }
 },
 "nbformat": 4,
 "nbformat_minor": 0
}
