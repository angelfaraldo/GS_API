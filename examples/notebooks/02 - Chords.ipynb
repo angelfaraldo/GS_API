{
 "cells": [
  {
   "cell_type": "markdown",
   "metadata": {},
   "source": [
    "## Tutorial 2: Chords"
   ]
  },
  {
   "cell_type": "code",
   "execution_count": 18,
   "metadata": {},
   "outputs": [],
   "source": [
    "from gsapi import *"
   ]
  },
  {
   "cell_type": "markdown",
   "metadata": {},
   "source": [
    "The GS-API provides a detailed logging system to help debugging. You can set different logging levels for the different modules in the library:"
   ]
  },
  {
   "cell_type": "code",
   "execution_count": 19,
   "metadata": {},
   "outputs": [],
   "source": [
    "gsio.gsioLog.setLevel(level=logging.INFO)"
   ]
  },
  {
   "cell_type": "markdown",
   "metadata": {},
   "source": [
    "Now, let's use \"gsio.fromMidiFile\" to load a regular MIDI file onto a Pattern p:"
   ]
  },
  {
   "cell_type": "code",
   "execution_count": 20,
   "metadata": {},
   "outputs": [
    {
     "name": "stderr",
     "output_type": "stream",
     "text": [
      "[\u001b[1mgsapi.gsio     \u001b[0m][\u001b[1;37mINFO\u001b[0m]  start processing I5-IV.mid (\u001b[1mgsio.py\u001b[0m:136)\n",
      "[\u001b[1mgsapi.gsio     \u001b[0m][\u001b[1;37mINFO\u001b[0m]  I5-IV.mid: getting track: 0 Yamaha Grand Piano (\u001b[1mgsio.py\u001b[0m:161)\n",
      "[\u001b[1mgsapi.gsio     \u001b[0m][\u001b[1;37mINFO\u001b[0m]  set duration 3.950000 at start 0.050000  (\u001b[1mgsio.py\u001b[0m:208)\n",
      "[\u001b[1mgsapi.gsio     \u001b[0m][\u001b[1;37mINFO\u001b[0m]  set duration 3.950000 at start 0.050000  (\u001b[1mgsio.py\u001b[0m:208)\n",
      "[\u001b[1mgsapi.gsio     \u001b[0m][\u001b[1;37mINFO\u001b[0m]  set duration 3.950000 at start 0.050000  (\u001b[1mgsio.py\u001b[0m:208)\n",
      "[\u001b[1mgsapi.gsio     \u001b[0m][\u001b[1;37mINFO\u001b[0m]  set duration 2.250000 at start 4.000000  (\u001b[1mgsio.py\u001b[0m:208)\n",
      "[\u001b[1mgsapi.gsio     \u001b[0m][\u001b[1;37mINFO\u001b[0m]  set duration 2.250000 at start 4.000000  (\u001b[1mgsio.py\u001b[0m:208)\n",
      "[\u001b[1mgsapi.gsio     \u001b[0m][\u001b[1;37mINFO\u001b[0m]  set duration 2.250000 at start 4.000000  (\u001b[1mgsio.py\u001b[0m:208)\n",
      "[\u001b[1mgsapi.gsio     \u001b[0m][\u001b[1;37mINFO\u001b[0m]  set duration 1.250000 at start 6.500000  (\u001b[1mgsio.py\u001b[0m:208)\n",
      "[\u001b[1mgsapi.gsio     \u001b[0m][\u001b[1;37mINFO\u001b[0m]  set duration 1.250000 at start 6.500000  (\u001b[1mgsio.py\u001b[0m:208)\n",
      "[\u001b[1mgsapi.gsio     \u001b[0m][\u001b[1;37mINFO\u001b[0m]  set duration 1.250000 at start 6.500000  (\u001b[1mgsio.py\u001b[0m:208)\n"
     ]
    },
    {
     "name": "stdout",
     "output_type": "stream",
     "text": [
      "Name: I5-IV.mid\n",
      "Duration: 7.75\n",
      "BPM: 125.00\n",
      "TimeSignature: 16/16\n",
      "Key: C\n",
      "FilePath: None\n",
      "\n",
      "D3 50 80 0.0500 3.9500\n",
      "A3 57 80 0.0500 3.9500\n",
      "D4 62 80 0.0500 3.9500\n",
      "D3 50 80 4.0000 2.2500\n",
      "G3 55 80 4.0000 2.2500\n",
      "B3 59 80 4.0000 2.2500\n",
      "D3 50 80 6.5000 1.2500\n",
      "G3 55 80 6.5000 1.2500\n",
      "B3 59 80 6.5000 1.2500\n",
      "\n"
     ]
    }
   ],
   "source": [
    "p = gsio.fromMidiFile(\"../corpora/harmony/I5-IV.mid\", \"pitchName\")\n",
    "print(p)"
   ]
  },
  {
   "cell_type": "markdown",
   "metadata": {},
   "source": [
    "In this example, we are going to take a midi file and transpose its content so that its first note is C4.\n",
    "For that, we can request the start time of the first event in the pattern:"
   ]
  },
  {
   "cell_type": "code",
   "execution_count": 6,
   "metadata": {},
   "outputs": [
    {
     "name": "stdout",
     "output_type": "stream",
     "text": [
      "0.05\n"
     ]
    }
   ],
   "source": [
    "first_event_time = p.events[0].startTime\n",
    "print(first_event_time)"
   ]
  },
  {
   "cell_type": "markdown",
   "metadata": {},
   "source": [
    "And get all the vertical components at start time, in case there is a chord:"
   ]
  },
  {
   "cell_type": "code",
   "execution_count": 7,
   "metadata": {},
   "outputs": [
    {
     "name": "stdout",
     "output_type": "stream",
     "text": [
      "[D3 50 80 0.0500 3.9500, A3 57 80 0.0500 3.9500, D4 62 80 0.0500 3.9500]\n"
     ]
    }
   ],
   "source": [
    "first_chord = p.getStartingEventsAtTime(first_event_time)\n",
    "print(first_chord)"
   ]
  },
  {
   "cell_type": "markdown",
   "metadata": {},
   "source": [
    "We filter the midi note numbers of the first chord:"
   ]
  },
  {
   "cell_type": "code",
   "execution_count": 8,
   "metadata": {},
   "outputs": [
    {
     "name": "stdout",
     "output_type": "stream",
     "text": [
      "[50, 57, 62]\n"
     ]
    }
   ],
   "source": [
    "first_notes_midi = []\n",
    "for e in first_chord:\n",
    "    first_notes_midi.append(e.pitch)\n",
    "print(first_notes_midi)"
   ]
  },
  {
   "cell_type": "markdown",
   "metadata": {},
   "source": [
    "And make sure they are sorted in ascending order. Then we take the lowest note of the aggregate:"
   ]
  },
  {
   "cell_type": "code",
   "execution_count": 9,
   "metadata": {},
   "outputs": [
    {
     "name": "stdout",
     "output_type": "stream",
     "text": [
      "50\n"
     ]
    }
   ],
   "source": [
    "first_notes_midi.sort()\n",
    "tonic = first_notes_midi[0]\n",
    "print(tonic)"
   ]
  },
  {
   "cell_type": "markdown",
   "metadata": {},
   "source": [
    "Now we can find a transposition factor and transpose the pattern so that the first note (or lowest note of the first chord) is C4:"
   ]
  },
  {
   "cell_type": "code",
   "execution_count": 10,
   "metadata": {},
   "outputs": [
    {
     "name": "stdout",
     "output_type": "stream",
     "text": [
      "Name: I5-IV.mid\n",
      "Duration: 7.75\n",
      "BPM: 125.00\n",
      "TimeSignature: 16/16\n",
      "Key: C\n",
      "FilePath: None\n",
      "\n",
      "['C4'] 60 80 0.0500 3.9500\n",
      "['G4'] 67 80 0.0500 3.9500\n",
      "['C5'] 72 80 0.0500 3.9500\n",
      "['C4'] 60 80 4.0000 2.2500\n",
      "['F4'] 65 80 4.0000 2.2500\n",
      "['A4'] 69 80 4.0000 2.2500\n",
      "['C4'] 60 80 6.5000 1.2500\n",
      "['F4'] 65 80 6.5000 1.2500\n",
      "['A4'] 69 80 6.5000 1.2500\n",
      "\n"
     ]
    }
   ],
   "source": [
    "transposition_interval = 60 - tonic\n",
    "p.transpose(transposition_interval)\n",
    "print(p)"
   ]
  },
  {
   "cell_type": "markdown",
   "metadata": {},
   "source": [
    "There are a few methods available to perform sanity check of the GS Pattern and reformat it if necessary. The following methods force that events in the GS Pattern are ordered strictly in chronological order after manipulations and without overlapping notes:\n"
   ]
  },
  {
   "cell_type": "code",
   "execution_count": 11,
   "metadata": {},
   "outputs": [],
   "source": [
    "p.reorderEvents()\n",
    "p.removeOverlapped(usePitchValues=True)"
   ]
  },
  {
   "cell_type": "markdown",
   "metadata": {},
   "source": [
    "Normally we would quantize the pattern, so its durations and onsets align to the desired resolution."
   ]
  },
  {
   "cell_type": "code",
   "execution_count": 12,
   "metadata": {},
   "outputs": [
    {
     "name": "stdout",
     "output_type": "stream",
     "text": [
      "Name: I5-IV.mid\n",
      "Duration: 7.75\n",
      "BPM: 125.00\n",
      "TimeSignature: 16/16\n",
      "Key: C\n",
      "FilePath: None\n",
      "\n",
      "['C4'] 60 80 0.0000 3.7500\n",
      "['G4'] 67 80 0.0000 3.7500\n",
      "['C5'] 72 80 0.0000 3.7500\n",
      "['C4'] 60 80 4.0000 2.2500\n",
      "['F4'] 65 80 4.0000 2.2500\n",
      "['A4'] 69 80 4.0000 2.2500\n",
      "['C4'] 60 80 6.5000 1.2500\n",
      "['F4'] 65 80 6.5000 1.2500\n",
      "['A4'] 69 80 6.5000 1.2500\n",
      "\n"
     ]
    }
   ],
   "source": [
    "p.quantize(0.25, quantizeStartTime=True, quantizeDuration=True)\n",
    "print(p)"
   ]
  },
  {
   "cell_type": "markdown",
   "metadata": {},
   "source": [
    "After quantisation, you could create \"silence\" events filling empty time intervals (if any) in order to export the pattern to a score software."
   ]
  },
  {
   "cell_type": "code",
   "execution_count": 13,
   "metadata": {},
   "outputs": [
    {
     "name": "stdout",
     "output_type": "stream",
     "text": [
      "Name: I5-IV.mid\n",
      "Duration: 7.75\n",
      "BPM: 125.00\n",
      "TimeSignature: 16/16\n",
      "Key: C\n",
      "FilePath: None\n",
      "\n",
      "['C4'] 60 80 0.0000 3.7500\n",
      "['G4'] 67 80 0.0000 3.7500\n",
      "['C5'] 72 80 0.0000 3.7500\n",
      "silence 0 0 3.7500 0.2500\n",
      "['C4'] 60 80 4.0000 2.2500\n",
      "['F4'] 65 80 4.0000 2.2500\n",
      "['A4'] 69 80 4.0000 2.2500\n",
      "silence 0 0 6.2500 0.2500\n",
      "['C4'] 60 80 6.5000 1.2500\n",
      "['F4'] 65 80 6.5000 1.2500\n",
      "['A4'] 69 80 6.5000 1.2500\n",
      "\n"
     ]
    }
   ],
   "source": [
    "p.fillWithSilences()\n",
    "print(p)"
   ]
  },
  {
   "cell_type": "markdown",
   "metadata": {
    "collapsed": true
   },
   "source": [
    "Alternatively, you can fill the gaps (silences) with the duration of the previous sounding event(s)"
   ]
  },
  {
   "cell_type": "code",
   "execution_count": 14,
   "metadata": {
    "scrolled": true
   },
   "outputs": [
    {
     "name": "stdout",
     "output_type": "stream",
     "text": [
      "Name: I5-IV.mid\n",
      "Duration: 7.75\n",
      "BPM: 125.00\n",
      "TimeSignature: 16/16\n",
      "Key: C\n",
      "FilePath: None\n",
      "\n",
      "['C4'] 60 80 0.0000 4.0000\n",
      "['G4'] 67 80 0.0000 4.0000\n",
      "['C5'] 72 80 0.0000 4.0000\n",
      "['C4'] 60 80 4.0000 2.5000\n",
      "['F4'] 65 80 4.0000 2.5000\n",
      "['A4'] 69 80 4.0000 2.5000\n",
      "['C4'] 60 80 6.5000 1.2500\n",
      "['F4'] 65 80 6.5000 1.2500\n",
      "['A4'] 69 80 6.5000 1.2500\n",
      "\n"
     ]
    }
   ],
   "source": [
    "p.removeByTags([\"silence\"])\n",
    "p.fillWithPreviousEvent()\n",
    "p.fillWithSilences()\n",
    "print(p)"
   ]
  },
  {
   "cell_type": "markdown",
   "metadata": {},
   "source": [
    "As we did before, we can export all the modifications onto a new MIDI file:"
   ]
  },
  {
   "cell_type": "code",
   "execution_count": 16,
   "metadata": {},
   "outputs": [
    {
     "name": "stdout",
     "output_type": "stream",
     "text": [
      "480\n",
      "(0, 0)\n",
      "0.0 480\n",
      "0.0 480\n",
      "0.0 480\n",
      "4.0 480\n",
      "4.0 480\n",
      "4.0 480\n",
      "6.5 480\n",
      "6.5 480\n",
      "6.5 480\n"
     ]
    },
    {
     "data": {
      "text/plain": [
       "'../../output/transposed.mid'"
      ]
     },
     "execution_count": 16,
     "metadata": {},
     "output_type": "execute_result"
    }
   ],
   "source": [
    "gsio.toMidiFile(p, folderPath='../../output', name='transposed')"
   ]
  },
  {
   "cell_type": "code",
   "execution_count": null,
   "metadata": {
    "collapsed": true
   },
   "outputs": [],
   "source": [
    "# chord = Chordify(myPattern) \n",
    "\n",
    "#print(chord.outputPattern)\n",
    "#print(type(chord.outputPattern))\n",
    "\n",
    "\n",
    "# chord_name = Chord()\n",
    "# chord_name.getDescriptorForPattern(chord.outputPattern[0])\n",
    "\n",
    "# io.toMidi(myPattern, path='./', name='tests')\n",
    "\n",
    "# needs notepad or musescore installed\n",
    "#s = converter.parse('./test.mid')\n",
    "#print s\n",
    "#s.show()"
   ]
  }
 ],
 "metadata": {
  "kernelspec": {
   "display_name": "Python 2",
   "language": "python",
   "name": "python2"
  },
  "language_info": {
   "codemirror_mode": {
    "name": "ipython",
    "version": 2
   },
   "file_extension": ".py",
   "mimetype": "text/x-python",
   "name": "python",
   "nbconvert_exporter": "python",
   "pygments_lexer": "ipython2",
   "version": "2.7.13"
  }
 },
 "nbformat": 4,
 "nbformat_minor": 1
}
