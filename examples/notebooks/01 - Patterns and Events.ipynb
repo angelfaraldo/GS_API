{
 "cells": [
  {
   "cell_type": "markdown",
   "metadata": {},
   "source": [
    "## Tutorial 1: Patterns and Events"
   ]
  },
  {
   "cell_type": "markdown",
   "metadata": {},
   "source": [
    "The GS-API is organised around two main objects: the Pattern and Event classes, declared in the gspattern module. A Pattern is an interconnected collection of Events, with the following parameters: duration, bpm, timeSignature, name, originFilePath, and a list of Events with the events in the pattern. An event represents basic musical data, such as notes and silences."
   ]
  },
  {
   "cell_type": "code",
   "execution_count": 2,
   "metadata": {
    "collapsed": false
   },
   "outputs": [],
   "source": [
    "# the gsio module provides fuctionality to import and export MIDI and JSON files.\n",
    "from gsapi import gspattern, gsio"
   ]
  },
  {
   "cell_type": "code",
   "execution_count": 3,
   "metadata": {
    "collapsed": false
   },
   "outputs": [
    {
     "name": "stdout",
     "output_type": "stream",
     "text": [
      "Pattern I5-IV.mid: duration: 7.75,bpm: 125.00,time signature: 16/16\n",
      "D3 50 80 0.0500 3.9500\n",
      "A3 57 80 0.0500 3.9500\n",
      "D4 62 80 0.0500 3.9500\n",
      "D3 50 80 4.0000 2.2500\n",
      "G3 55 80 4.0000 2.2500\n",
      "B3 59 80 4.0000 2.2500\n",
      "D3 50 80 6.5000 1.2500\n",
      "G3 55 80 6.5000 1.2500\n",
      "B3 59 80 6.5000 1.2500\n",
      "\n"
     ]
    }
   ],
   "source": [
    "# a useful method, gsio.fromMidi loads a MIDI file as a Pattern.\n",
    "myPattern = gsio.fromMidi(\"../corpora/harmony/I5-IV.mid\", \"pitchNames\")\n",
    "print(myPattern)"
   ]
  },
  {
   "cell_type": "markdown",
   "metadata": {},
   "source": [
    "In the following lines, we are going to take the first note in a pattern (first and lowest, in case there is a chord), and transpose the whole sequence so that the first and lowest tone is a C4."
   ]
  },
  {
   "cell_type": "code",
   "execution_count": 4,
   "metadata": {
    "collapsed": false
   },
   "outputs": [
    {
     "name": "stdout",
     "output_type": "stream",
     "text": [
      "Pattern I5-IV.mid: duration: 7.75,bpm: 125.00,time signature: 16/16\n",
      "['C4'] 60 80 0.0500 3.9500\n",
      "['G4'] 67 80 0.0500 3.9500\n",
      "['C5'] 72 80 0.0500 3.9500\n",
      "['C4'] 60 80 4.0000 2.2500\n",
      "['F4'] 65 80 4.0000 2.2500\n",
      "['A4'] 69 80 4.0000 2.2500\n",
      "['C4'] 60 80 6.5000 1.2500\n",
      "['F4'] 65 80 6.5000 1.2500\n",
      "['A4'] 69 80 6.5000 1.2500\n",
      "\n"
     ]
    }
   ],
   "source": [
    "# get start time of first event in the pattern (in case the sequence starts with silence):\n",
    "start_event = myPattern.events[0].startTime\n",
    "\n",
    "# get all vertical components at start time (if there is a chord):\n",
    "first_chord = myPattern.getStartingEventsAtTime(start_event)\n",
    "\n",
    "# get the midi note numbers of the first chord:\n",
    "first_notes = []\n",
    "for e in first_chord:\n",
    "    first_notes.append(e.pitch)\n",
    "\n",
    "# and sort them in ascending order:\n",
    "first_notes.sort()\n",
    "first_root = first_notes[0]\n",
    "\n",
    "# find the transposition factor and transpose the progression to middle C:\n",
    "transposition_interval = 60 - first_root\n",
    "myPattern.transpose(transposition_interval)\n",
    "\n",
    "print(myPattern)"
   ]
  },
  {
   "cell_type": "code",
   "execution_count": 5,
   "metadata": {
    "collapsed": false
   },
   "outputs": [
    {
     "name": "stdout",
     "output_type": "stream",
     "text": [
      "Pattern I5-IV.mid: duration: 7.75,bpm: 125.00,time signature: 16/16\n",
      "silence 0 0 0.0000 0.0500\n",
      "['C4'] 60 80 0.0500 3.9500\n",
      "['G4'] 67 80 0.0500 3.9500\n",
      "['C5'] 72 80 0.0500 3.9500\n",
      "['C4'] 60 80 4.0000 2.2500\n",
      "['F4'] 65 80 4.0000 2.2500\n",
      "['A4'] 69 80 4.0000 2.2500\n",
      "silence 0 0 6.2500 0.2500\n",
      "['C4'] 60 80 6.5000 1.2500\n",
      "['F4'] 65 80 6.5000 1.2500\n",
      "['A4'] 69 80 6.5000 1.2500\n",
      "\n"
     ]
    }
   ],
   "source": [
    "# the 'fillWithSilences' method detects gaps in patterns, creating new events tagged as 'silence'.\n",
    "# have a look at the gspattern module documentation to learn about all possible manipulations.\n",
    "myPattern.fillWithSilences()\n",
    "print(myPattern) # note that two \"silence\" events are created!"
   ]
  },
  {
   "cell_type": "code",
   "execution_count": 6,
   "metadata": {
    "collapsed": false
   },
   "outputs": [
    {
     "name": "stdout",
     "output_type": "stream",
     "text": [
      "Pattern I5-IV.mid: duration: 7.75,bpm: 125.00,time signature: 16/16\n",
      "silence 0 0 0.0000 4.0000\n",
      "['C4'] 60 80 0.0000 4.0000\n",
      "['G4'] 67 80 0.0000 4.0000\n",
      "['C5'] 72 80 0.0000 4.0000\n",
      "['C4'] 60 80 4.0000 2.2500\n",
      "['F4'] 65 80 4.0000 2.2500\n",
      "['A4'] 69 80 4.0000 2.2500\n",
      "silence 0 0 6.2500 0.2500\n",
      "['C4'] 60 80 6.5000 1.2500\n",
      "['F4'] 65 80 6.5000 1.2500\n",
      "['A4'] 69 80 6.5000 1.2500\n",
      "\n"
     ]
    }
   ],
   "source": [
    "# OTHER POSSIBLY USEFUL MANIPULATIONS\n",
    "# have a look at the gspattern module documentation to learn about all possible manipulations.\n",
    "#myPattern.removeOverlapped(usePitchValues=True) # removes overlapping identical notes\n",
    "#myPattern.reorderEvents() # reorder the Events in the Patterns\n",
    "myPattern.quantize(0.25) # quantize the metrical grid to semiquavers (1/4)\n",
    "myPattern.fillWithPreviousEvent() # fills empty time intervals with the previous event. \n",
    "#myPattern.fillWithSilences()  # fills empty time intervals with silences \n",
    "print(myPattern)"
   ]
  },
  {
   "cell_type": "code",
   "execution_count": 7,
   "metadata": {
    "collapsed": false
   },
   "outputs": [
    {
     "data": {
      "text/plain": [
       "'../../output/transposed.mid'"
      ]
     },
     "execution_count": 7,
     "metadata": {},
     "output_type": "execute_result"
    }
   ],
   "source": [
    "# last, we can export the modified pattern to a new MIDI file:\n",
    "gsio.toMidi(myPattern, folderPath='../../output', name='transposed')"
   ]
  },
  {
   "cell_type": "markdown",
   "metadata": {},
   "source": [
    "In the next tutorial, we will get a closer look into some of the Pattern Methods"
   ]
  }
 ],
 "metadata": {
  "kernelspec": {
   "display_name": "Python 2",
   "language": "python",
   "name": "python2"
  },
  "language_info": {
   "codemirror_mode": {
    "name": "ipython",
    "version": 2
   },
   "file_extension": ".py",
   "mimetype": "text/x-python",
   "name": "python",
   "nbconvert_exporter": "python",
   "pygments_lexer": "ipython2",
   "version": "2.7.12"
  }
 },
 "nbformat": 4,
 "nbformat_minor": 0
}
