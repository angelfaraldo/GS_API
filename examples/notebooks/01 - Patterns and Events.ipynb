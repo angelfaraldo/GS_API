{
 "cells": [
  {
   "cell_type": "markdown",
   "metadata": {},
   "source": [
    "## Tutorial 1: Patterns and Events"
   ]
  },
  {
   "cell_type": "markdown",
   "metadata": {},
   "source": [
    "The GS-API is organised around two main classes: the Pattern and Event, declared in the gspattern module. A Pattern is an interconnected collection of Events, with the following parameters: duration, bpm, timeSignature, name, originFilePath, and a list of Events with the events in the pattern. An event represents basic musical data, such as notes and silences. The gsio module provides fuctionanlity to import and export MIDI and JSON files.\n",
    "    \n",
    "    "
   ]
  },
  {
   "cell_type": "code",
   "execution_count": 1,
   "metadata": {
    "collapsed": false
   },
   "outputs": [],
   "source": [
    "# gsio module provides fuctionality to import and export MIDI and JSON files.\n",
    "from gsapi import gsio"
   ]
  },
  {
   "cell_type": "code",
   "execution_count": 2,
   "metadata": {
    "collapsed": false
   },
   "outputs": [
    {
     "name": "stdout",
     "output_type": "stream",
     "text": [
      "Pattern I5-IV.mid: duration: 7.75,bpm: 125.00,time signature: 16/16\n",
      "D3 50 80 0.0500 3.9500\n",
      "A3 57 80 0.0500 3.9500\n",
      "D4 62 80 0.0500 3.9500\n",
      "D3 50 80 4.0000 2.2500\n",
      "G3 55 80 4.0000 2.2500\n",
      "B3 59 80 4.0000 2.2500\n",
      "D3 50 80 6.5000 1.2500\n",
      "G3 55 80 6.5000 1.2500\n",
      "B3 59 80 6.5000 1.2500\n",
      "\n"
     ]
    }
   ],
   "source": [
    "# gsio.fromMidi loads a MIDI file into a Pattern.\n",
    "myPattern = gsio.fromMidi(\"../corpora/harmony/I5-IV.mid\", \"pitchNames\")\n",
    "print(myPattern)"
   ]
  },
  {
   "cell_type": "code",
   "execution_count": 4,
   "metadata": {
    "collapsed": false
   },
   "outputs": [
    {
     "name": "stdout",
     "output_type": "stream",
     "text": [
      "Pattern I5-IV.mid: duration: 7.75,bpm: 125.00,time signature: 16/16\n",
      "silence 0 0 0.0000 0.0500\n",
      "D3 50 80 0.0500 3.9500\n",
      "A3 57 80 0.0500 3.9500\n",
      "D4 62 80 0.0500 3.9500\n",
      "D3 50 80 4.0000 2.2500\n",
      "G3 55 80 4.0000 2.2500\n",
      "B3 59 80 4.0000 2.2500\n",
      "silence 0 0 6.2500 0.2500\n",
      "D3 50 80 6.5000 1.2500\n",
      "G3 55 80 6.5000 1.2500\n",
      "B3 59 80 6.5000 1.2500\n",
      "\n"
     ]
    }
   ],
   "source": [
    "# the 'fillWithSilences' method detects gaps in the pattern and creates events tagged as 'silence' \n",
    "myPattern.fillWithSilences()\n",
    "print(myPattern)"
   ]
  },
  {
   "cell_type": "code",
   "execution_count": 5,
   "metadata": {
    "collapsed": false
   },
   "outputs": [
    {
     "name": "stdout",
     "output_type": "stream",
     "text": [
      "Pattern I5-IV.mid: duration: 7.75,bpm: 125.00,time signature: 16/16\n",
      "['C4'] 60 0 0.0000 4.0000\n",
      "['D8'] 110 80 0.0000 4.0000\n",
      "['A8'] 117 80 0.0000 4.0000\n",
      "['D9'] 122 80 0.0000 4.0000\n",
      "['D8'] 110 80 4.0000 2.2500\n",
      "['G8'] 115 80 4.0000 2.2500\n",
      "['B8'] 119 80 4.0000 2.2500\n",
      "['C4'] 60 0 6.2500 0.2500\n",
      "['D8'] 110 80 6.5000 1.2500\n",
      "['G8'] 115 80 6.5000 1.2500\n",
      "['B8'] 119 80 6.5000 1.2500\n",
      "\n"
     ]
    },
    {
     "ename": "NameError",
     "evalue": "name 'GSIO' is not defined",
     "output_type": "error",
     "traceback": [
      "\u001b[0;31m---------------------------------------------------------------------------\u001b[0m",
      "\u001b[0;31mNameError\u001b[0m                                 Traceback (most recent call last)",
      "\u001b[0;32m<ipython-input-5-d94d7067d65b>\u001b[0m in \u001b[0;36m<module>\u001b[0;34m()\u001b[0m\n\u001b[1;32m     27\u001b[0m \u001b[0;32mprint\u001b[0m \u001b[0mmyPattern\u001b[0m\u001b[0;34m\u001b[0m\u001b[0m\n\u001b[1;32m     28\u001b[0m \u001b[0;34m\u001b[0m\u001b[0m\n\u001b[0;32m---> 29\u001b[0;31m \u001b[0mGSIO\u001b[0m\u001b[0;34m.\u001b[0m\u001b[0mtoMIDI\u001b[0m\u001b[0;34m(\u001b[0m\u001b[0mmyPattern\u001b[0m\u001b[0;34m,\u001b[0m \u001b[0mpath\u001b[0m\u001b[0;34m=\u001b[0m\u001b[0;34m'./'\u001b[0m\u001b[0;34m,\u001b[0m \u001b[0mname\u001b[0m\u001b[0;34m=\u001b[0m\u001b[0;34m'test'\u001b[0m\u001b[0;34m)\u001b[0m\u001b[0;34m\u001b[0m\u001b[0m\n\u001b[0m",
      "\u001b[0;31mNameError\u001b[0m: name 'GSIO' is not defined"
     ]
    }
   ],
   "source": [
    "# get start time of first event in the pattern:\n",
    "start_event = myPattern.events[0].startTime\n",
    "\n",
    "# get all vertical components at start time:\n",
    "first_chord = myPattern.getStartingEventsAtTime(start_event)\n",
    "\n",
    "# get the midi note numbers of the first chord:\n",
    "first_notes = []\n",
    "for e in first_chord:\n",
    "    first_notes.append(e.pitch)\n",
    "\n",
    "# we sort them in ascending order:\n",
    "# afterwards we could check if the aggregate is a chord and if it is in root position\n",
    "first_notes.sort()\n",
    "first_root = first_notes[0]\n",
    "\n",
    "# find a transposition factor and transpose the progression to middle C:\n",
    "transposition_interval = 60 - first_root\n",
    "myPattern.transpose(transposition_interval)\n",
    "\n",
    "# POSIBLY USEFUL FUNCTIONS\n",
    "myPattern.removeOverlapped(usePitchValues=True)\n",
    "myPattern.reorderEvents()\n",
    "myPattern.quantize(0.25)\n",
    "myPattern.fillWithPreviousEvent()\n",
    "myPattern.fillWithSilences()  # fills empty time intervals with silences \n",
    "print(myPattern)"
   ]
  },
  {
   "cell_type": "code",
   "execution_count": 8,
   "metadata": {
    "collapsed": false
   },
   "outputs": [
    {
     "data": {
      "text/plain": [
       "'./test.mid'"
      ]
     },
     "execution_count": 8,
     "metadata": {},
     "output_type": "execute_result"
    }
   ],
   "source": [
    "# we could export the modified pattern to a new MIDI file: \n",
    "gsio.toMidi(myPattern, folderPath='./', name='test')"
   ]
  },
  {
   "cell_type": "code",
   "execution_count": null,
   "metadata": {
    "collapsed": true
   },
   "outputs": [],
   "source": []
  }
 ],
 "metadata": {
  "kernelspec": {
   "display_name": "Python 2",
   "language": "python",
   "name": "python2"
  },
  "language_info": {
   "codemirror_mode": {
    "name": "ipython",
    "version": 2
   },
   "file_extension": ".py",
   "mimetype": "text/x-python",
   "name": "python",
   "nbconvert_exporter": "python",
   "pygments_lexer": "ipython2",
   "version": "2.7.12"
  }
 },
 "nbformat": 4,
 "nbformat_minor": 0
}
