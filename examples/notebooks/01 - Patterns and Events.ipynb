{
 "cells": [
  {
   "cell_type": "markdown",
   "metadata": {
    "deletable": true,
    "editable": true
   },
   "source": [
    "## Tutorial 1: Patterns and Events"
   ]
  },
  {
   "cell_type": "markdown",
   "metadata": {
    "deletable": true,
    "editable": true
   },
   "source": [
    "The GS-API is organised around two objects: Patterns and Events, declared in the gspattern module. A Pattern is an interconnected collection of Events, with the following attributes: duration, bpm, timeSignature, name, originFilePath, and a list of Events with the events in the pattern.\n",
    "\n",
    "The following snippet will create an empty Pattern 'p'."
   ]
  },
  {
   "cell_type": "code",
   "execution_count": null,
   "metadata": {
    "collapsed": true
   },
   "outputs": [],
   "source": [
    "from gsapi import gspattern\n",
    "\n",
    "p = gspattern.Pattern()"
   ]
  },
  {
   "cell_type": "markdown",
   "metadata": {
    "collapsed": false
   },
   "source": [
    "We can access its main attributes by calling the print function:"
   ]
  },
  {
   "cell_type": "code",
   "execution_count": null,
   "metadata": {
    "collapsed": false
   },
   "outputs": [],
   "source": [
    "print(p)"
   ]
  },
  {
   "cell_type": "markdown",
   "metadata": {},
   "source": [
    "or check and modify them individually:"
   ]
  },
  {
   "cell_type": "code",
   "execution_count": null,
   "metadata": {
    "collapsed": false
   },
   "outputs": [],
   "source": [
    "p.duration = 5.0\n",
    "p.name = \"myNewPattern\"\n",
    "p.key = \"Ab\"\n",
    "print(p)"
   ]
  },
  {
   "cell_type": "markdown",
   "metadata": {},
   "source": [
    "A query onto the events attribute shows that the pattern p is an empty container for now:"
   ]
  },
  {
   "cell_type": "code",
   "execution_count": null,
   "metadata": {
    "collapsed": false
   },
   "outputs": [],
   "source": [
    "p.events"
   ]
  },
  {
   "cell_type": "markdown",
   "metadata": {
    "collapsed": false
   },
   "source": [
    "Events represent basic musical data, such as notes and silences. Let's add a few events to pattern p with the Pattern method 'addEvent':"
   ]
  },
  {
   "cell_type": "code",
   "execution_count": null,
   "metadata": {
    "collapsed": false
   },
   "outputs": [],
   "source": [
    "p.addEvent(gspattern.Event(startTime=0, duration=1, pitch=35, velocity=100, tag=\"Kick\"))\n",
    "p.addEvent(gspattern.Event(1, 1, 38, 100, \"Snare\"))\n",
    "p.addEvent(gspattern.Event(2, 1, 36, 100, \"Kick\"))\n",
    "p.addEvent(gspattern.Event(3, 1, 38, 100, \"Snare\"))"
   ]
  },
  {
   "cell_type": "markdown",
   "metadata": {
    "collapsed": false
   },
   "source": [
    "We added 4 events, onto four equidistant startTimes. Each event must have the following attributes: startTime, duration, pitch and velocity. Additionally it can have tag and originPattern attributes."
   ]
  },
  {
   "cell_type": "code",
   "execution_count": null,
   "metadata": {
    "collapsed": false
   },
   "outputs": [],
   "source": [
    "print(p)"
   ]
  },
  {
   "cell_type": "markdown",
   "metadata": {
    "collapsed": false
   },
   "source": [
    "The pattern attribute \"events\" is now a list with four elements. We can access events individually and query or change their attributes."
   ]
  },
  {
   "cell_type": "code",
   "execution_count": null,
   "metadata": {
    "collapsed": false
   },
   "outputs": [],
   "source": [
    "p.events"
   ]
  },
  {
   "cell_type": "code",
   "execution_count": null,
   "metadata": {
    "collapsed": false
   },
   "outputs": [],
   "source": [
    "p.events[0].tag"
   ]
  },
  {
   "cell_type": "markdown",
   "metadata": {},
   "source": [
    "For convenience, you can access individual events of the pattern as if they were list members of pattern itself. The next expression is equivalent to the previous:"
   ]
  },
  {
   "cell_type": "code",
   "execution_count": null,
   "metadata": {
    "collapsed": false
   },
   "outputs": [],
   "source": [
    "p[0].tag"
   ]
  },
  {
   "cell_type": "code",
   "execution_count": null,
   "metadata": {
    "collapsed": false
   },
   "outputs": [],
   "source": [
    "p[1].velocity = 80\n",
    "p[3].velocity = 80\n",
    "p[2].duration = 0.5\n",
    "p[2].startTime = 2.5\n",
    "print(p)"
   ]
  },
  {
   "cell_type": "markdown",
   "metadata": {},
   "source": [
    "The gsio module provides fuctionality to import and export MIDI and JSON files. We could export the pattern we've created to Midi with the gsio's method 'toMidi'"
   ]
  },
  {
   "cell_type": "code",
   "execution_count": null,
   "metadata": {
    "collapsed": false
   },
   "outputs": [],
   "source": [
    "from gsapi import gsio\n",
    "gsio.toMidi(p, folderPath='../../output', name='myNewPattern')"
   ]
  }
 ],
 "metadata": {
  "kernelspec": {
   "display_name": "Python 2",
   "language": "python",
   "name": "python2"
  },
  "language_info": {
   "codemirror_mode": {
    "name": "ipython",
    "version": 2
   },
   "file_extension": ".py",
   "mimetype": "text/x-python",
   "name": "python",
   "nbconvert_exporter": "python",
   "pygments_lexer": "ipython2",
   "version": "2.7.12"
  }
 },
 "nbformat": 4,
 "nbformat_minor": 0
}
