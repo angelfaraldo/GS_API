{
 "cells": [
  {
   "cell_type": "markdown",
   "metadata": {
    "deletable": true,
    "editable": true
   },
   "source": [
    "## Tutorial 1: Patterns and Events"
   ]
  },
  {
   "cell_type": "markdown",
   "metadata": {
    "deletable": true,
    "editable": true
   },
   "source": [
    "The GS-API is organised around two main objects: the Pattern and Event classes, declared in the gspattern module. A Pattern is an interconnected collection of Events, with the following parameters: duration, bpm, timeSignature, name, originFilePath, and a list of Events with the events in the pattern. An event represents basic musical data, such as notes and silences. Additionally, the gsio module provides fuctionality to import and export MIDI and JSON files."
   ]
  },
  {
   "cell_type": "code",
   "execution_count": 1,
   "metadata": {
    "collapsed": false,
    "deletable": true,
    "editable": true
   },
   "outputs": [],
   "source": [
    "from gsapi import gspattern, gsio"
   ]
  },
  {
   "cell_type": "markdown",
   "metadata": {},
   "source": [
    "The following lines will create a Pattern p with two events: one event tagged as \"Kick\" starting at time 0, with a duration of 1, a Midi Note Number 64 and a Midi velocity of 127; and a second event tagged \"Snare\" starting at time 1, with a duration of 3, Midi Note Number 62 and Midi velocity of 51."
   ]
  },
  {
   "cell_type": "code",
   "execution_count": 3,
   "metadata": {
    "collapsed": true
   },
   "outputs": [],
   "source": [
    "p = gspattern.Pattern()\n",
    "p.addEvent(gspattern.Event(startTime=0, duration=1, pitch=64, velocity=127, tag=\"Kick\"))\n",
    "p.addEvent(gspattern.Event(1, 3, 62, 51, \"Snare\"))"
   ]
  },
  {
   "cell_type": "code",
   "execution_count": 8,
   "metadata": {
    "collapsed": false
   },
   "outputs": [
    {
     "name": "stdout",
     "output_type": "stream",
     "text": [
      "(60, 4, [Kick 64 127 0.0000 1.0000, Snare 62 51 1.0000 3.0000], 'noName')\n"
     ]
    }
   ],
   "source": [
    "print(p.bpm, p.duration, p.events, p.name)\n"
   ]
  },
  {
   "cell_type": "code",
   "execution_count": 7,
   "metadata": {
    "collapsed": true
   },
   "outputs": [],
   "source": [
    "p.bpm = 60"
   ]
  },
  {
   "cell_type": "code",
   "execution_count": 9,
   "metadata": {
    "collapsed": false
   },
   "outputs": [
    {
     "name": "stdout",
     "output_type": "stream",
     "text": [
      "Name: noName, Duration: 4.00, BPM: 60.00, TimeSignature: 4/4\n",
      "Kick 64 127 0.0000 1.0000\n",
      "Snare 62 51 1.0000 3.0000\n",
      "\n"
     ]
    }
   ],
   "source": [
    "print(p)"
   ]
  },
  {
   "cell_type": "code",
   "execution_count": 11,
   "metadata": {
    "collapsed": false
   },
   "outputs": [],
   "source": [
    "p.name = 'new_pattern'"
   ]
  },
  {
   "cell_type": "code",
   "execution_count": 12,
   "metadata": {
    "collapsed": false
   },
   "outputs": [
    {
     "name": "stdout",
     "output_type": "stream",
     "text": [
      "Name: new_pattern, Duration: 4.00, BPM: 60.00, TimeSignature: 4/4\n",
      "Kick 64 127 0.0000 1.0000\n",
      "Snare 62 51 1.0000 3.0000\n",
      "\n"
     ]
    }
   ],
   "source": [
    "print(p)"
   ]
  },
  {
   "cell_type": "code",
   "execution_count": 14,
   "metadata": {
    "collapsed": false
   },
   "outputs": [],
   "source": [
    "p.addEvent(gspattern.Event())\n"
   ]
  },
  {
   "cell_type": "code",
   "execution_count": 15,
   "metadata": {
    "collapsed": false
   },
   "outputs": [
    {
     "name": "stdout",
     "output_type": "stream",
     "text": [
      "Name: new_pattern, Duration: 4.00, BPM: 60.00, TimeSignature: 4/4\n",
      "Kick 64 127 0.0000 1.0000\n",
      "None 60 80 0.0000 1.0000\n",
      "Snare 62 51 1.0000 3.0000\n",
      "\n"
     ]
    }
   ],
   "source": [
    "print(p)"
   ]
  },
  {
   "cell_type": "code",
   "execution_count": 20,
   "metadata": {
    "collapsed": false
   },
   "outputs": [
    {
     "data": {
      "text/plain": [
       "str"
      ]
     },
     "execution_count": 20,
     "metadata": {},
     "output_type": "execute_result"
    }
   ],
   "source": [
    "type(p[0].tag)\n"
   ]
  },
  {
   "cell_type": "code",
   "execution_count": null,
   "metadata": {
    "collapsed": true
   },
   "outputs": [],
   "source": []
  }
 ],
 "metadata": {
  "kernelspec": {
   "display_name": "Python 2",
   "language": "python",
   "name": "python2"
  },
  "language_info": {
   "codemirror_mode": {
    "name": "ipython",
    "version": 2
   },
   "file_extension": ".py",
   "mimetype": "text/x-python",
   "name": "python",
   "nbconvert_exporter": "python",
   "pygments_lexer": "ipython2",
   "version": "2.7.12"
  }
 },
 "nbformat": 4,
 "nbformat_minor": 0
}
