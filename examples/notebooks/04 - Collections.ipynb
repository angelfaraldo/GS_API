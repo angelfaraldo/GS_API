{
 "cells": [
  {
   "cell_type": "markdown",
   "metadata": {},
   "source": [
    "## 03 - Collections"
   ]
  },
  {
   "cell_type": "code",
   "execution_count": null,
   "metadata": {
    "collapsed": false
   },
   "outputs": [],
   "source": [
    "from gsapi import *\n",
    "\n",
    "crawledFolder = \"./corpora/drums/*.mid\"\n",
    "\n",
    "customNoteMapping = {\"spam\": [(35, '*'), 45],\n",
    "                     \"Kick\": 36,\n",
    "                     \"Rimshot\": 37,\n",
    "                     \"Snare\": 38,\n",
    "                     \"Clap\": 39,\n",
    "                     \"Clave\": 40,\n",
    "                     \"LowTom\": 41,\n",
    "                     \"ClosedHH\": 42,\n",
    "                     \"MidTom\": 43,\n",
    "                     \"Shake\": 44,\n",
    "                     \"HiTom\": 45,\n",
    "                     \"OpenHH\": 46,\n",
    "                     \"LowConga\": 47,\n",
    "                     \"HiConga\": 48,\n",
    "                     \"Cymbal\": 49,\n",
    "                     \"Conga\": 50,\n",
    "                     \"CowBell\": 51}\n",
    "\n",
    "\n",
    "# desiredPatternLength = 16\n",
    "patterns = gsio.fromMidiCollection(crawledFolder,\n",
    "                                   {\"Kick\": 36},\n",
    "                                   tagsFromTrackNameEvents=False)\n",
    "\n",
    "print(patterns[0])\n",
    "print([x.startTime for x in patterns[0].events])"
   ]
  },
  {
   "cell_type": "code",
   "execution_count": null,
   "metadata": {
    "collapsed": true
   },
   "outputs": [],
   "source": [
    ""
   ]
  }
 ],
 "metadata": {
  "kernelspec": {
   "display_name": "Python 2",
   "language": "python",
   "name": "python2"
  },
  "language_info": {
   "codemirror_mode": {
    "name": "ipython",
    "version": 2.0
   },
   "file_extension": ".py",
   "mimetype": "text/x-python",
   "name": "python",
   "nbconvert_exporter": "python",
   "pygments_lexer": "ipython2",
   "version": "2.7.12"
  }
 },
 "nbformat": 4,
 "nbformat_minor": 0
}