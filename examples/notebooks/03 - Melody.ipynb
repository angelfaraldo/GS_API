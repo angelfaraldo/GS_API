{
 "cells": [
  {
   "cell_type": "markdown",
   "metadata": {},
   "source": [
    "## Tutorial 2b: Melody"
   ]
  },
  {
   "cell_type": "code",
   "execution_count": 6,
   "metadata": {
    "collapsed": true
   },
   "outputs": [],
   "source": [
    "from gsapi import *"
   ]
  },
  {
   "cell_type": "markdown",
   "metadata": {},
   "source": [
    "The GS-API provides a detailed logging system to help debugging. You can set different logging levels for the different modules in the library:"
   ]
  },
  {
   "cell_type": "code",
   "execution_count": 7,
   "metadata": {
    "collapsed": true
   },
   "outputs": [],
   "source": [
    "gsio.gsioLog.setLevel(level=logging.WARNING)"
   ]
  },
  {
   "cell_type": "markdown",
   "metadata": {},
   "source": [
    "Now, let's use \"gsio.fromMidi\" to load a regular MIDI file onto a Pattern p:"
   ]
  },
  {
   "cell_type": "code",
   "execution_count": 3,
   "metadata": {},
   "outputs": [
    {
     "data": {
      "text/plain": [
       "Name: DGMB_006_LP_BASS-E.mid\n",
       "Duration: 15.90\n",
       "BPM: 120.00\n",
       "TimeSignature: 4/4\n",
       "Key: \n",
       "FilePath: None\n",
       "\n",
       "A2 45 94 0.0000 0.3958\n",
       "B2 47 91 0.5000 0.2396\n",
       "B2 47 89 0.7500 0.3958\n",
       "B2 47 93 1.2500 0.3958\n",
       "B2 47 116 2.0000 0.3958\n",
       "A2 45 107 3.0000 0.3958\n",
       "B2 47 89 3.5000 0.2396\n",
       "B2 47 90 3.7500 0.3958\n",
       "F#2 42 92 4.2500 0.2396\n",
       "E2 40 93 4.5000 0.3958\n",
       "F#2 42 106 5.0000 0.2396\n",
       "B2 47 94 5.2500 0.3958\n",
       "F#2 42 94 5.7500 0.2396\n",
       "E2 40 115 6.0000 0.3958\n",
       "F#2 42 91 7.2500 0.2396\n",
       "B2 47 92 7.5000 0.3958\n",
       "F#2 42 94 8.5000 0.2396\n",
       "F#2 42 94 8.7500 0.3854\n",
       "F#2 42 93 9.2396 0.4062\n",
       "F#2 42 116 9.9896 0.4062\n",
       "B2 47 107 10.9896 0.4062\n",
       "F#2 42 94 11.5000 0.2396\n",
       "F#2 42 93 11.7500 0.3854\n",
       "D2 38 93 12.2396 0.2396\n",
       "B2 47 93 12.4896 0.4062\n",
       "D2 38 108 13.0000 0.2292\n",
       "F#2 42 90 13.2396 0.3958\n",
       "D2 38 90 13.7396 0.2396\n",
       "B2 47 116 13.9896 0.4062\n",
       "D2 38 94 15.2500 0.2396\n",
       "F#2 42 93 15.5000 0.3958"
      ]
     },
     "execution_count": 3,
     "metadata": {},
     "output_type": "execute_result"
    }
   ],
   "source": [
    "import gsapi.gsio\n",
    "p = gsio.fromMidiFile(\"/Users/angelosx/Insync/midi/HOUSE-BASS/Delectable Records - Deep House Midi Basslines/DGMB_006_LP_BASS-E.mid\")\n",
    "p"
   ]
  },
  {
   "cell_type": "markdown",
   "metadata": {},
   "source": [
    "There are a few methods available to perform sanity check of the GS Pattern and reformat it if necessary. The following methods force that events in the GS Pattern are ordered strictly in chronological order after manipulations and without overlapping notes:"
   ]
  },
  {
   "cell_type": "code",
   "execution_count": 5,
   "metadata": {},
   "outputs": [
    {
     "data": {
      "text/plain": [
       "Name: DGMB_006_LP_BASS-E.mid\n",
       "Duration: 16.00\n",
       "BPM: 120.00\n",
       "TimeSignature: 4/4\n",
       "Key: \n",
       "FilePath: None\n",
       "\n",
       "A2 45 94 0.0000 0.5000\n",
       "B2 47 91 0.5000 0.5000\n",
       "B2 47 89 0.5000 0.5000\n",
       "B2 47 93 1.0000 0.5000\n",
       "B2 47 116 2.0000 0.5000\n",
       "A2 45 107 3.0000 0.5000\n",
       "B2 47 89 3.5000 0.5000\n",
       "B2 47 90 3.5000 0.5000\n",
       "F#2 42 92 4.0000 0.5000\n",
       "E2 40 93 4.5000 0.5000\n",
       "F#2 42 106 5.0000 0.5000\n",
       "B2 47 94 5.0000 0.5000\n",
       "F#2 42 94 5.5000 0.5000\n",
       "E2 40 115 6.0000 0.5000\n",
       "F#2 42 91 7.0000 0.5000\n",
       "B2 47 92 7.5000 0.5000\n",
       "F#2 42 94 8.5000 0.5000\n",
       "F#2 42 94 8.5000 0.5000\n",
       "F#2 42 93 9.0000 0.5000\n",
       "F#2 42 116 10.0000 0.5000\n",
       "B2 47 107 11.0000 0.5000\n",
       "F#2 42 94 11.5000 0.5000\n",
       "F#2 42 93 11.5000 0.5000\n",
       "D2 38 93 12.0000 0.5000\n",
       "B2 47 93 12.5000 0.5000\n",
       "D2 38 108 13.0000 0.5000\n",
       "F#2 42 90 13.0000 0.5000\n",
       "D2 38 90 13.5000 0.5000\n",
       "B2 47 116 14.0000 0.5000\n",
       "D2 38 94 15.0000 0.5000\n",
       "F#2 42 93 15.5000 0.5000"
      ]
     },
     "execution_count": 5,
     "metadata": {},
     "output_type": "execute_result"
    }
   ],
   "source": [
    "p.durationToBar()\n",
    "p.quantize(0.5, quantizeStartTime=True, quantizeDuration=True)\n",
    "p.reorderEvents()\n",
    "# p.removeOverlapped(usePitchValues=True)\n",
    "# p.fillWithSilences()\n",
    "gsio.toMidiFile(p, folderPath='../../output', name='quantTT')\n",
    "p"
   ]
  },
  {
   "cell_type": "code",
   "execution_count": null,
   "metadata": {
    "collapsed": true,
    "scrolled": true
   },
   "outputs": [],
   "source": [
    "# Alternatively, you can fill the gaps (silences) with the duration of the previous sounding event(s)\n",
    "p.removeByTags([\"silence\"])\n",
    "p.fillWithPreviousEvent()\n",
    "gsio.toMidiFile(p, folderPath='../../output', name='quant_filled')"
   ]
  },
  {
   "cell_type": "markdown",
   "metadata": {},
   "source": [
    "In the next tutorial, we will get a closer look into Datasets."
   ]
  }
 ],
 "metadata": {
  "kernelspec": {
   "display_name": "Python 2",
   "language": "python",
   "name": "python2"
  },
  "language_info": {
   "codemirror_mode": {
    "name": "ipython",
    "version": 2
   },
   "file_extension": ".py",
   "mimetype": "text/x-python",
   "name": "python",
   "nbconvert_exporter": "python",
   "pygments_lexer": "ipython2",
   "version": "2.7.13"
  }
 },
 "nbformat": 4,
 "nbformat_minor": 1
}
