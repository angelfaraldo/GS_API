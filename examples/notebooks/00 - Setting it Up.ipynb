{
 "cells": [
  {
   "cell_type": "markdown",
   "metadata": {},
   "source": [
    "# 00 - Setting it Up"
   ]
  },
  {
   "cell_type": "markdown",
   "metadata": {},
   "source": [
    "If you have not installed the GS-API python module yet, download it via pip or at the github repository:\n",
    "\n",
    "https://github.com/angelfaraldo/gsapi\n",
    "\n",
    "Open a terminal:\n",
    "- cd gsapi\n",
    "- python setup.py build\n",
    "- python setup.py install"
   ]
  },
  {
   "cell_type": "markdown",
   "metadata": {},
   "source": [
    "Then simply start a python console or script and import the module. All submodules in the API are documented. You can obtain help on each module by typing help(moduleName)."
   ]
  },
  {
   "cell_type": "code",
   "execution_count": null,
   "metadata": {
    "collapsed": true
   },
   "outputs": [],
   "source": [
    "import gsapi\n",
    "\n",
    "help(gsapi.gspattern)"
   ]
  }
 ],
 "metadata": {
  "kernelspec": {
   "display_name": "Python 2",
   "language": "python",
   "name": "python2"
  },
  "language_info": {
   "codemirror_mode": {
    "name": "ipython",
    "version": 2
   },
   "file_extension": ".py",
   "mimetype": "text/x-python",
   "name": "python",
   "nbconvert_exporter": "python",
   "pygments_lexer": "ipython2",
   "version": "2.7.13"
  }
 },
 "nbformat": 4,
 "nbformat_minor": 1
}
